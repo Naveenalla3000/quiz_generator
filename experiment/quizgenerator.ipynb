{
 "cells": [
  {
   "cell_type": "code",
   "execution_count": 116,
   "metadata": {},
   "outputs": [
    {
     "name": "stdout",
     "output_type": "stream",
     "text": [
      "Note: you may need to restart the kernel to use updated packages.\n",
      "Note: you may need to restart the kernel to use updated packages.\n",
      "Note: you may need to restart the kernel to use updated packages.\n"
     ]
    }
   ],
   "source": [
    "%pip install --upgrade --quiet  langchain-google-genai\n",
    "%pip install python-dotenv --quiet\n",
    "%pip install --upgrade --quiet  langchain pandas fpdf"
   ]
  },
  {
   "cell_type": "code",
   "execution_count": 117,
   "metadata": {},
   "outputs": [
    {
     "data": {
      "text/plain": [
       "True"
      ]
     },
     "execution_count": 117,
     "metadata": {},
     "output_type": "execute_result"
    }
   ],
   "source": [
    "import os\n",
    "import sys\n",
    "import json\n",
    "from langchain_google_genai import GoogleGenerativeAI\n",
    "from dotenv import load_dotenv\n",
    "from langchain.prompts import PromptTemplate\n",
    "from langchain.chains import LLMChain\n",
    "from langchain.chains import SequentialChain\n",
    "import pandas as pd\n",
    "from fpdf import FPDF\n",
    "load_dotenv()"
   ]
  },
  {
   "cell_type": "code",
   "execution_count": 118,
   "metadata": {},
   "outputs": [],
   "source": [
    "KEY = os.getenv(\"GOOGLE_API_KEY\")"
   ]
  },
  {
   "cell_type": "code",
   "execution_count": 119,
   "metadata": {},
   "outputs": [],
   "source": [
    "llm = GoogleGenerativeAI(model=\"gemini-pro\", google_api_key=KEY,temperature=.7)\n"
   ]
  },
  {
   "cell_type": "code",
   "execution_count": 120,
   "metadata": {},
   "outputs": [
    {
     "name": "stdout",
     "output_type": "stream",
     "text": [
      "**Pros:**\n",
      "\n",
      "* **Simplicity and readability:** Python's syntax is designed to be easy to read and write, making it accessible to beginners and experienced developers alike.\n",
      "* **Extensive library support:** Python has a vast collection of libraries and frameworks, covering a wide range of domains, such as data science, machine learning, web development, and automation.\n",
      "* **Cross-platform compatibility:** Python can run on multiple operating systems, including Windows, macOS, and Linux, making it a portable option for development.\n",
      "* **Interpreted nature:** Python is an interpreted language, which means that it allows for rapid development and testing without the need for compilation.\n",
      "* **Strong community support:** Python has a large and active community, providing resources, documentation, and support for developers.\n",
      "\n",
      "**Cons:**\n",
      "\n",
      "* **Speed:** Python can be slower than compiled languages, such as C++ or Java, especially for computationally intensive tasks.\n",
      "* **Memory management:** Python uses automatic memory management, which can sometimes lead to memory leaks or performance issues if not handled properly.\n",
      "* **Type safety:** Python is a dynamically typed language, which means that types are checked at runtime instead of compile time. This can lead to potential errors or runtime exceptions.\n",
      "* **Lack of concurrency support:** Python's Global Interpreter Lock (GIL) limits true concurrency, making it less suitable for applications that require high levels of parallelism.\n",
      "* **Indentation-based syntax:** Python uses indentation for code blocks, which can lead to readability issues if not followed consistently.\n"
     ]
    }
   ],
   "source": [
    "print(\n",
    "    llm.invoke(\n",
    "        \"What are some of the pros and cons of Python as a programming language?\"\n",
    "    )\n",
    ")"
   ]
  },
  {
   "cell_type": "markdown",
   "metadata": {},
   "source": [
    "***design of response***"
   ]
  },
  {
   "cell_type": "code",
   "execution_count": 121,
   "metadata": {},
   "outputs": [],
   "source": [
    "RESPONSE_JSON = {\n",
    "    \"1\":{\n",
    "        \"mcq\": \"question\",\n",
    "        \"options\":{\n",
    "            \"a\": \"choice\",\n",
    "            \"b\": \"choice\",\n",
    "            \"c\": \"choice\",\n",
    "            \"d\": \"choice\"\n",
    "        },\n",
    "        \"correct\": \"correct_answer\"\n",
    "    },\n",
    "    \"2\":{\n",
    "        \"mcq\": \"question\",\n",
    "        \"options\":{\n",
    "            \"a\": \"choice\",\n",
    "            \"b\": \"choice\",\n",
    "            \"c\": \"choice\",\n",
    "            \"d\": \"choice\"\n",
    "        },\n",
    "        \"correct\": \"correct_answer\"\n",
    "    },\n",
    "    \"3\":{\n",
    "        \"mcq\": \"question\",\n",
    "        \"options\":{\n",
    "            \"a\": \"choice\",\n",
    "            \"b\": \"choice\",\n",
    "            \"c\": \"choice\",\n",
    "            \"d\": \"choice\"\n",
    "        },\n",
    "        \"correct\": \"correct_answer\"\n",
    "    },\n",
    "    \"4\":{\n",
    "        \"mcq\": \"question\",\n",
    "        \"options\":{\n",
    "            \"a\": \"choice\",\n",
    "            \"b\": \"choice\",\n",
    "            \"c\": \"choice\",\n",
    "            \"d\": \"choice\"\n",
    "        },\n",
    "        \"correct\": \"correct_answer\"\n",
    "    },\n",
    "}"
   ]
  },
  {
   "cell_type": "code",
   "execution_count": 122,
   "metadata": {},
   "outputs": [],
   "source": [
    "TEMPLATE_1='''\n",
    "   TEXT: {text}\n",
    "You are an expert in creating multiple choice questions. Given the above text, it is your job to create a quiz of {number} questions for {subject} students in a {tone} tone. Ensure the questions are unique and relevant to the text.\n",
    "Use the format provided below as a guide to construct your quiz, making sure to include {number} MCQs:\n",
    "\n",
    "{response_json}\n",
    "\n",
    "'''"
   ]
  },
  {
   "cell_type": "code",
   "execution_count": 123,
   "metadata": {},
   "outputs": [],
   "source": [
    "quiz_generation_prompt = PromptTemplate(\n",
    "    input_variables=[\"text\",\"number\",\"subject\",\"tone\",\"response_json\"],\n",
    "    template=TEMPLATE_1\n",
    ")"
   ]
  },
  {
   "cell_type": "code",
   "execution_count": 124,
   "metadata": {},
   "outputs": [],
   "source": [
    "quiz_chain = LLMChain(\n",
    "    llm=llm,\n",
    "    prompt = quiz_generation_prompt,\n",
    "    output_key = \"quiz\",\n",
    "    verbose=True\n",
    ")"
   ]
  },
  {
   "cell_type": "code",
   "execution_count": 125,
   "metadata": {},
   "outputs": [],
   "source": [
    "TEMPLATE_2 = '''\n",
    "    You are expert in english gramer and writer. Give a muitiple choice for students in subject {subject}. \\\n",
    "    You need to evaluate the complexity of question and give a complete ananylsis of quiz. Only use at max 50 words for each.\\\n",
    "    Quiz_MCQs:\n",
    "    {quiz}\n",
    "\n",
    "    check from expert English writer of the above quiz:\n",
    "'''"
   ]
  },
  {
   "cell_type": "code",
   "execution_count": 126,
   "metadata": {},
   "outputs": [],
   "source": [
    "quiz_evaluation_prompt = PromptTemplate(\n",
    "    input_variables=[\"subject\",\"quiz\"],\n",
    "    template=TEMPLATE_2\n",
    ")"
   ]
  },
  {
   "cell_type": "code",
   "execution_count": 127,
   "metadata": {},
   "outputs": [],
   "source": [
    "review_chain = LLMChain(\n",
    "    llm=llm,\n",
    "    prompt = quiz_evaluation_prompt,\n",
    "    output_key = \"review\",\n",
    "    verbose=True\n",
    ")"
   ]
  },
  {
   "cell_type": "code",
   "execution_count": 128,
   "metadata": {},
   "outputs": [],
   "source": [
    "generate_evalution_chain = SequentialChain(\n",
    "    chains=[quiz_chain,review_chain],\n",
    "    input_variables=[\"text\",\"number\",\"subject\",\"tone\",\"response_json\"],\n",
    "    output_variables=[\"quiz\",\"review\"],\n",
    "    verbose=True\n",
    ")"
   ]
  },
  {
   "cell_type": "code",
   "execution_count": 129,
   "metadata": {},
   "outputs": [],
   "source": [
    "file_path = \"/Users/naveen/Developer/GenAI/quiz_generator/data.txt\""
   ]
  },
  {
   "cell_type": "code",
   "execution_count": 130,
   "metadata": {},
   "outputs": [],
   "source": [
    "with open(file_path, 'r') as file:\n",
    "    TEXT = file.read()"
   ]
  },
  {
   "cell_type": "code",
   "execution_count": 131,
   "metadata": {},
   "outputs": [
    {
     "data": {
      "text/plain": [
       "'{\"1\": {\"mcq\": \"question\", \"options\": {\"a\": \"choice\", \"b\": \"choice\", \"c\": \"choice\", \"d\": \"choice\"}, \"correct\": \"correct_answer\"}, \"2\": {\"mcq\": \"question\", \"options\": {\"a\": \"choice\", \"b\": \"choice\", \"c\": \"choice\", \"d\": \"choice\"}, \"correct\": \"correct_answer\"}, \"3\": {\"mcq\": \"question\", \"options\": {\"a\": \"choice\", \"b\": \"choice\", \"c\": \"choice\", \"d\": \"choice\"}, \"correct\": \"correct_answer\"}, \"4\": {\"mcq\": \"question\", \"options\": {\"a\": \"choice\", \"b\": \"choice\", \"c\": \"choice\", \"d\": \"choice\"}, \"correct\": \"correct_answer\"}}'"
      ]
     },
     "execution_count": 131,
     "metadata": {},
     "output_type": "execute_result"
    }
   ],
   "source": [
    "json.dumps(RESPONSE_JSON)"
   ]
  },
  {
   "cell_type": "code",
   "execution_count": 132,
   "metadata": {},
   "outputs": [],
   "source": [
    "NUMBER = 10\n",
    "SUBJECT = \"deep Learning\",\n",
    "TONE = \"simple\""
   ]
  },
  {
   "cell_type": "code",
   "execution_count": 133,
   "metadata": {},
   "outputs": [
    {
     "name": "stdout",
     "output_type": "stream",
     "text": [
      "\n",
      "\n",
      "\u001b[1m> Entering new SequentialChain chain...\u001b[0m\n",
      "\n",
      "\n",
      "\u001b[1m> Entering new LLMChain chain...\u001b[0m\n",
      "Prompt after formatting:\n",
      "\u001b[32;1m\u001b[1;3m\n",
      "   TEXT: Collaborative filtering (CF) is a successful approach commonly used by many recommender systems.\n",
      "Conventional CF-based methods use the ratings given to items by users as the sole source of information for learning to make recommendation. \n",
      "However, the ratings are often very sparse in many applications, causing CF-based methods to degrade significantly in their recommendation performance. \n",
      "To address this sparsity problem, auxiliary information such as item content information may be utilized. Collaborative topic regression (CTR) is an appealing recent method taking this approach which tightly couples the two components that learn from two different sources of information. \n",
      "Nevertheless, the latent representation learned by CTR may not be very effective when the auxiliary information is very sparse. \n",
      "To address this problem, we generalize recently advances in deep learning from i.i.d. input to non-i.i.d. (CF-based) input and propose in this paper a hierarchical Bayesian model called collaborative deep learning (CDL), which jointly performs deep representation learning for the content information and collaborative filtering for the ratings (feedback) matrix. Extensive experiments on three real-world datasets from different domains show that CDL can significantly advance the state of the art.\n",
      "You are an expert in creating multiple choice questions. Given the above text, it is your job to create a quiz of 10 questions for ('deep Learning',) students in a simple tone. Ensure the questions are unique and relevant to the text.\n",
      "Use the format provided below as a guide to construct your quiz, making sure to include 10 MCQs:\n",
      "\n",
      "{\"1\": {\"mcq\": \"question\", \"options\": {\"a\": \"choice\", \"b\": \"choice\", \"c\": \"choice\", \"d\": \"choice\"}, \"correct\": \"correct_answer\"}, \"2\": {\"mcq\": \"question\", \"options\": {\"a\": \"choice\", \"b\": \"choice\", \"c\": \"choice\", \"d\": \"choice\"}, \"correct\": \"correct_answer\"}, \"3\": {\"mcq\": \"question\", \"options\": {\"a\": \"choice\", \"b\": \"choice\", \"c\": \"choice\", \"d\": \"choice\"}, \"correct\": \"correct_answer\"}, \"4\": {\"mcq\": \"question\", \"options\": {\"a\": \"choice\", \"b\": \"choice\", \"c\": \"choice\", \"d\": \"choice\"}, \"correct\": \"correct_answer\"}}\n",
      "\n",
      "\u001b[0m\n",
      "\n",
      "\u001b[1m> Finished chain.\u001b[0m\n",
      "\n",
      "\n",
      "\u001b[1m> Entering new LLMChain chain...\u001b[0m\n",
      "Prompt after formatting:\n",
      "\u001b[32;1m\u001b[1;3m\n",
      "    You are expert in english gramer and writer. Give a muitiple choice for students in subject ('deep Learning',).     You need to evaluate the complexity of question and give a complete ananylsis of quiz. Only use at max 50 words for each.    Quiz_MCQs:\n",
      "    {\"1\": {\"mcq\": \"What is a common approach used by many recommender systems?\", \"options\": {\"a\": \"Collaborative filtering\", \"b\": \"Content-based filtering\", \"c\": \"Hybrid filtering\", \"d\": \"Rule-based filtering\"}, \"correct\": \"a\"}, \"2\": {\"mcq\": \"What is the main problem with conventional CF-based methods?\", \"options\": {\"a\": \"Data sparsity\", \"b\": \"Cold start\", \"c\": \"Overfitting\", \"d\": \"Scalability\"}, \"correct\": \"a\"}, \"3\": {\"mcq\": \"What additional information can be used to address the sparsity problem in CF-based methods?\", \"options\": {\"a\": \"Item content information\", \"b\": \"User demographics\", \"c\": \"Social network data\", \"d\": \"All of the above\"}, \"correct\": \"d\"}, \"4\": {\"mcq\": \"What is the name of the method that tightly couples learning from ratings and content information?\", \"options\": {\"a\": \"Collaborative topic regression (CTR)\", \"b\": \"Matrix factorization\", \"c\": \"Neighborhood-based methods\", \"d\": \"Deep autoencoders\"}, \"correct\": \"a\"}, \"5\": {\"mcq\": \"What is the main limitation of the latent representation learned by CTR?\", \"options\": {\"a\": \"It may not be effective when auxiliary information is sparse\", \"b\": \"It may overfit to the training data\", \"c\": \"It may not capture the semantic relationships between items\", \"d\": \"It may not generalize well to new data\"}, \"correct\": \"a\"}, \"6\": {\"mcq\": \"What is the main idea behind collaborative deep learning (CDL)?\", \"options\": {\"a\": \"Combining deep representation learning and collaborative filtering\", \"b\": \"Using deep learning to improve the accuracy of CF-based methods\", \"c\": \"Applying deep learning to non-i.i.d. input\", \"d\": \"Extracting meaningful features from content information\"}, \"correct\": \"a\"}, \"7\": {\"mcq\": \"What type of input data does CDL handle?\", \"options\": {\"a\": \"i.i.d. input\", \"b\": \"Non-i.i.d. input\", \"c\": \"Structured data\", \"d\": \"Unstructured data\"}, \"correct\": \"b\"}, \"8\": {\"mcq\": \"What is the main benefit of CDL over existing methods?\", \"options\": {\"a\": \"It can significantly advance the state of the art in recommender systems\", \"b\": \"It is more efficient and scalable\", \"c\": \"It is easier to implement\", \"d\": \"It does not require any auxiliary information\"}, \"correct\": \"a\"}, \"9\": {\"mcq\": \"In what domains have CDL experiments been conducted?\", \"options\": {\"a\": \"E-commerce\", \"b\": \"Movie recommendation\", \"c\": \"Music recommendation\", \"d\": \"All of the above\"}, \"correct\": \"d\"}, \"10\": {\"mcq\": \"What is the main purpose of deep representation learning in CDL?\", \"options\": {\"a\": \"To extract meaningful features from content information\", \"b\": \"To improve the accuracy of collaborative filtering\", \"c\": \"To reduce the dimensionality of the data\", \"d\": \"To generate new data samples\"}, \"correct\": \"a\"}}\n",
      "\n",
      "    check from expert English writer of the above quiz:\n",
      "\u001b[0m\n",
      "\n",
      "\u001b[1m> Finished chain.\u001b[0m\n",
      "\n",
      "\u001b[1m> Finished chain.\u001b[0m\n"
     ]
    }
   ],
   "source": [
    "res = generate_evalution_chain.__call__(\n",
    "        {\n",
    "        \"text\":TEXT,\n",
    "        \"number\": NUMBER,\n",
    "        \"subject\": SUBJECT,\n",
    "        \"tone\": TONE,\n",
    "        \"response_json\": json.dumps(RESPONSE_JSON)\n",
    "        }\n",
    "    )"
   ]
  },
  {
   "cell_type": "code",
   "execution_count": 134,
   "metadata": {},
   "outputs": [
    {
     "data": {
      "text/plain": [
       "{'text': 'Collaborative filtering (CF) is a successful approach commonly used by many recommender systems.\\nConventional CF-based methods use the ratings given to items by users as the sole source of information for learning to make recommendation. \\nHowever, the ratings are often very sparse in many applications, causing CF-based methods to degrade significantly in their recommendation performance. \\nTo address this sparsity problem, auxiliary information such as item content information may be utilized. Collaborative topic regression (CTR) is an appealing recent method taking this approach which tightly couples the two components that learn from two different sources of information. \\nNevertheless, the latent representation learned by CTR may not be very effective when the auxiliary information is very sparse. \\nTo address this problem, we generalize recently advances in deep learning from i.i.d. input to non-i.i.d. (CF-based) input and propose in this paper a hierarchical Bayesian model called collaborative deep learning (CDL), which jointly performs deep representation learning for the content information and collaborative filtering for the ratings (feedback) matrix. Extensive experiments on three real-world datasets from different domains show that CDL can significantly advance the state of the art.',\n",
       " 'number': 10,\n",
       " 'subject': ('deep Learning',),\n",
       " 'tone': 'simple',\n",
       " 'response_json': '{\"1\": {\"mcq\": \"question\", \"options\": {\"a\": \"choice\", \"b\": \"choice\", \"c\": \"choice\", \"d\": \"choice\"}, \"correct\": \"correct_answer\"}, \"2\": {\"mcq\": \"question\", \"options\": {\"a\": \"choice\", \"b\": \"choice\", \"c\": \"choice\", \"d\": \"choice\"}, \"correct\": \"correct_answer\"}, \"3\": {\"mcq\": \"question\", \"options\": {\"a\": \"choice\", \"b\": \"choice\", \"c\": \"choice\", \"d\": \"choice\"}, \"correct\": \"correct_answer\"}, \"4\": {\"mcq\": \"question\", \"options\": {\"a\": \"choice\", \"b\": \"choice\", \"c\": \"choice\", \"d\": \"choice\"}, \"correct\": \"correct_answer\"}}',\n",
       " 'quiz': '{\"1\": {\"mcq\": \"What is a common approach used by many recommender systems?\", \"options\": {\"a\": \"Collaborative filtering\", \"b\": \"Content-based filtering\", \"c\": \"Hybrid filtering\", \"d\": \"Rule-based filtering\"}, \"correct\": \"a\"}, \"2\": {\"mcq\": \"What is the main problem with conventional CF-based methods?\", \"options\": {\"a\": \"Data sparsity\", \"b\": \"Cold start\", \"c\": \"Overfitting\", \"d\": \"Scalability\"}, \"correct\": \"a\"}, \"3\": {\"mcq\": \"What additional information can be used to address the sparsity problem in CF-based methods?\", \"options\": {\"a\": \"Item content information\", \"b\": \"User demographics\", \"c\": \"Social network data\", \"d\": \"All of the above\"}, \"correct\": \"d\"}, \"4\": {\"mcq\": \"What is the name of the method that tightly couples learning from ratings and content information?\", \"options\": {\"a\": \"Collaborative topic regression (CTR)\", \"b\": \"Matrix factorization\", \"c\": \"Neighborhood-based methods\", \"d\": \"Deep autoencoders\"}, \"correct\": \"a\"}, \"5\": {\"mcq\": \"What is the main limitation of the latent representation learned by CTR?\", \"options\": {\"a\": \"It may not be effective when auxiliary information is sparse\", \"b\": \"It may overfit to the training data\", \"c\": \"It may not capture the semantic relationships between items\", \"d\": \"It may not generalize well to new data\"}, \"correct\": \"a\"}, \"6\": {\"mcq\": \"What is the main idea behind collaborative deep learning (CDL)?\", \"options\": {\"a\": \"Combining deep representation learning and collaborative filtering\", \"b\": \"Using deep learning to improve the accuracy of CF-based methods\", \"c\": \"Applying deep learning to non-i.i.d. input\", \"d\": \"Extracting meaningful features from content information\"}, \"correct\": \"a\"}, \"7\": {\"mcq\": \"What type of input data does CDL handle?\", \"options\": {\"a\": \"i.i.d. input\", \"b\": \"Non-i.i.d. input\", \"c\": \"Structured data\", \"d\": \"Unstructured data\"}, \"correct\": \"b\"}, \"8\": {\"mcq\": \"What is the main benefit of CDL over existing methods?\", \"options\": {\"a\": \"It can significantly advance the state of the art in recommender systems\", \"b\": \"It is more efficient and scalable\", \"c\": \"It is easier to implement\", \"d\": \"It does not require any auxiliary information\"}, \"correct\": \"a\"}, \"9\": {\"mcq\": \"In what domains have CDL experiments been conducted?\", \"options\": {\"a\": \"E-commerce\", \"b\": \"Movie recommendation\", \"c\": \"Music recommendation\", \"d\": \"All of the above\"}, \"correct\": \"d\"}, \"10\": {\"mcq\": \"What is the main purpose of deep representation learning in CDL?\", \"options\": {\"a\": \"To extract meaningful features from content information\", \"b\": \"To improve the accuracy of collaborative filtering\", \"c\": \"To reduce the dimensionality of the data\", \"d\": \"To generate new data samples\"}, \"correct\": \"a\"}}',\n",
       " 'review': '**Question 1:**\\n\\n* Easy: Definition of a common approach in recommender systems.\\n\\n**Question 2:**\\n\\n* Medium: Identification of a key problem in CF-based methods.\\n\\n**Question 3:**\\n\\n* Medium: Understanding of additional information sources to address data sparsity.\\n\\n**Question 4:**\\n\\n* Hard: Explanation of a specific method that combines ratings and content information.\\n\\n**Question 5:**\\n\\n* Hard: Analysis of the limitation of the latent representation learned by CTR.\\n\\n**Question 6:**\\n\\n* Medium: Definition of the main concept behind collaborative deep learning.\\n\\n**Question 7:**\\n\\n* Easy: Identification of the type of input data handled by CDL.\\n\\n**Question 8:**\\n\\n* Medium: Comparison of CDL with existing methods and its key benefit.\\n\\n**Question 9:**\\n\\n* Easy: Knowledge of the application domains where CDL experiments have been conducted.\\n\\n**Question 10:**\\n\\n* Medium: Understanding of the purpose of deep representation learning in CDL.'}"
      ]
     },
     "execution_count": 134,
     "metadata": {},
     "output_type": "execute_result"
    }
   ],
   "source": [
    "res"
   ]
  },
  {
   "cell_type": "code",
   "execution_count": 135,
   "metadata": {},
   "outputs": [],
   "source": [
    "quiz = res.get('quiz')"
   ]
  },
  {
   "cell_type": "code",
   "execution_count": 136,
   "metadata": {},
   "outputs": [],
   "source": [
    "quiz = json.loads(quiz)\n",
    "type(quiz)\n",
    "data = quiz"
   ]
  },
  {
   "cell_type": "code",
   "execution_count": 137,
   "metadata": {},
   "outputs": [],
   "source": [
    "quiz_data = []\n",
    "for key,value in quiz.items():\n",
    "    mcq = value.get('mcq')\n",
    "    options = [f'{key}: {val}' for key, val in value.get('options').items()]\n",
    "    correct = value.get('correct')\n",
    "    quiz_data.append({'MCQ':mcq,\"options\":options, \"Correct Answer\": correct})"
   ]
  },
  {
   "cell_type": "code",
   "execution_count": 138,
   "metadata": {},
   "outputs": [
    {
     "data": {
      "text/plain": [
       "[{'MCQ': 'What is a common approach used by many recommender systems?',\n",
       "  'options': ['a: Collaborative filtering',\n",
       "   'b: Content-based filtering',\n",
       "   'c: Hybrid filtering',\n",
       "   'd: Rule-based filtering'],\n",
       "  'Correct Answer': 'a'},\n",
       " {'MCQ': 'What is the main problem with conventional CF-based methods?',\n",
       "  'options': ['a: Data sparsity',\n",
       "   'b: Cold start',\n",
       "   'c: Overfitting',\n",
       "   'd: Scalability'],\n",
       "  'Correct Answer': 'a'},\n",
       " {'MCQ': 'What additional information can be used to address the sparsity problem in CF-based methods?',\n",
       "  'options': ['a: Item content information',\n",
       "   'b: User demographics',\n",
       "   'c: Social network data',\n",
       "   'd: All of the above'],\n",
       "  'Correct Answer': 'd'},\n",
       " {'MCQ': 'What is the name of the method that tightly couples learning from ratings and content information?',\n",
       "  'options': ['a: Collaborative topic regression (CTR)',\n",
       "   'b: Matrix factorization',\n",
       "   'c: Neighborhood-based methods',\n",
       "   'd: Deep autoencoders'],\n",
       "  'Correct Answer': 'a'},\n",
       " {'MCQ': 'What is the main limitation of the latent representation learned by CTR?',\n",
       "  'options': ['a: It may not be effective when auxiliary information is sparse',\n",
       "   'b: It may overfit to the training data',\n",
       "   'c: It may not capture the semantic relationships between items',\n",
       "   'd: It may not generalize well to new data'],\n",
       "  'Correct Answer': 'a'},\n",
       " {'MCQ': 'What is the main idea behind collaborative deep learning (CDL)?',\n",
       "  'options': ['a: Combining deep representation learning and collaborative filtering',\n",
       "   'b: Using deep learning to improve the accuracy of CF-based methods',\n",
       "   'c: Applying deep learning to non-i.i.d. input',\n",
       "   'd: Extracting meaningful features from content information'],\n",
       "  'Correct Answer': 'a'},\n",
       " {'MCQ': 'What type of input data does CDL handle?',\n",
       "  'options': ['a: i.i.d. input',\n",
       "   'b: Non-i.i.d. input',\n",
       "   'c: Structured data',\n",
       "   'd: Unstructured data'],\n",
       "  'Correct Answer': 'b'},\n",
       " {'MCQ': 'What is the main benefit of CDL over existing methods?',\n",
       "  'options': ['a: It can significantly advance the state of the art in recommender systems',\n",
       "   'b: It is more efficient and scalable',\n",
       "   'c: It is easier to implement',\n",
       "   'd: It does not require any auxiliary information'],\n",
       "  'Correct Answer': 'a'},\n",
       " {'MCQ': 'In what domains have CDL experiments been conducted?',\n",
       "  'options': ['a: E-commerce',\n",
       "   'b: Movie recommendation',\n",
       "   'c: Music recommendation',\n",
       "   'd: All of the above'],\n",
       "  'Correct Answer': 'd'},\n",
       " {'MCQ': 'What is the main purpose of deep representation learning in CDL?',\n",
       "  'options': ['a: To extract meaningful features from content information',\n",
       "   'b: To improve the accuracy of collaborative filtering',\n",
       "   'c: To reduce the dimensionality of the data',\n",
       "   'd: To generate new data samples'],\n",
       "  'Correct Answer': 'a'}]"
      ]
     },
     "execution_count": 138,
     "metadata": {},
     "output_type": "execute_result"
    }
   ],
   "source": [
    "quiz_data"
   ]
  },
  {
   "cell_type": "code",
   "execution_count": 139,
   "metadata": {},
   "outputs": [
    {
     "data": {
      "text/html": [
       "<div>\n",
       "<style scoped>\n",
       "    .dataframe tbody tr th:only-of-type {\n",
       "        vertical-align: middle;\n",
       "    }\n",
       "\n",
       "    .dataframe tbody tr th {\n",
       "        vertical-align: top;\n",
       "    }\n",
       "\n",
       "    .dataframe thead th {\n",
       "        text-align: right;\n",
       "    }\n",
       "</style>\n",
       "<table border=\"1\" class=\"dataframe\">\n",
       "  <thead>\n",
       "    <tr style=\"text-align: right;\">\n",
       "      <th></th>\n",
       "      <th>MCQ</th>\n",
       "      <th>options</th>\n",
       "      <th>Correct Answer</th>\n",
       "    </tr>\n",
       "  </thead>\n",
       "  <tbody>\n",
       "    <tr>\n",
       "      <th>0</th>\n",
       "      <td>What is a common approach used by many recomme...</td>\n",
       "      <td>[a: Collaborative filtering, b: Content-based ...</td>\n",
       "      <td>a</td>\n",
       "    </tr>\n",
       "    <tr>\n",
       "      <th>1</th>\n",
       "      <td>What is the main problem with conventional CF-...</td>\n",
       "      <td>[a: Data sparsity, b: Cold start, c: Overfitti...</td>\n",
       "      <td>a</td>\n",
       "    </tr>\n",
       "    <tr>\n",
       "      <th>2</th>\n",
       "      <td>What additional information can be used to add...</td>\n",
       "      <td>[a: Item content information, b: User demograp...</td>\n",
       "      <td>d</td>\n",
       "    </tr>\n",
       "    <tr>\n",
       "      <th>3</th>\n",
       "      <td>What is the name of the method that tightly co...</td>\n",
       "      <td>[a: Collaborative topic regression (CTR), b: M...</td>\n",
       "      <td>a</td>\n",
       "    </tr>\n",
       "    <tr>\n",
       "      <th>4</th>\n",
       "      <td>What is the main limitation of the latent repr...</td>\n",
       "      <td>[a: It may not be effective when auxiliary inf...</td>\n",
       "      <td>a</td>\n",
       "    </tr>\n",
       "    <tr>\n",
       "      <th>5</th>\n",
       "      <td>What is the main idea behind collaborative dee...</td>\n",
       "      <td>[a: Combining deep representation learning and...</td>\n",
       "      <td>a</td>\n",
       "    </tr>\n",
       "    <tr>\n",
       "      <th>6</th>\n",
       "      <td>What type of input data does CDL handle?</td>\n",
       "      <td>[a: i.i.d. input, b: Non-i.i.d. input, c: Stru...</td>\n",
       "      <td>b</td>\n",
       "    </tr>\n",
       "    <tr>\n",
       "      <th>7</th>\n",
       "      <td>What is the main benefit of CDL over existing ...</td>\n",
       "      <td>[a: It can significantly advance the state of ...</td>\n",
       "      <td>a</td>\n",
       "    </tr>\n",
       "    <tr>\n",
       "      <th>8</th>\n",
       "      <td>In what domains have CDL experiments been cond...</td>\n",
       "      <td>[a: E-commerce, b: Movie recommendation, c: Mu...</td>\n",
       "      <td>d</td>\n",
       "    </tr>\n",
       "    <tr>\n",
       "      <th>9</th>\n",
       "      <td>What is the main purpose of deep representatio...</td>\n",
       "      <td>[a: To extract meaningful features from conten...</td>\n",
       "      <td>a</td>\n",
       "    </tr>\n",
       "  </tbody>\n",
       "</table>\n",
       "</div>"
      ],
      "text/plain": [
       "                                                 MCQ  \\\n",
       "0  What is a common approach used by many recomme...   \n",
       "1  What is the main problem with conventional CF-...   \n",
       "2  What additional information can be used to add...   \n",
       "3  What is the name of the method that tightly co...   \n",
       "4  What is the main limitation of the latent repr...   \n",
       "5  What is the main idea behind collaborative dee...   \n",
       "6           What type of input data does CDL handle?   \n",
       "7  What is the main benefit of CDL over existing ...   \n",
       "8  In what domains have CDL experiments been cond...   \n",
       "9  What is the main purpose of deep representatio...   \n",
       "\n",
       "                                             options Correct Answer  \n",
       "0  [a: Collaborative filtering, b: Content-based ...              a  \n",
       "1  [a: Data sparsity, b: Cold start, c: Overfitti...              a  \n",
       "2  [a: Item content information, b: User demograp...              d  \n",
       "3  [a: Collaborative topic regression (CTR), b: M...              a  \n",
       "4  [a: It may not be effective when auxiliary inf...              a  \n",
       "5  [a: Combining deep representation learning and...              a  \n",
       "6  [a: i.i.d. input, b: Non-i.i.d. input, c: Stru...              b  \n",
       "7  [a: It can significantly advance the state of ...              a  \n",
       "8  [a: E-commerce, b: Movie recommendation, c: Mu...              d  \n",
       "9  [a: To extract meaningful features from conten...              a  "
      ]
     },
     "execution_count": 139,
     "metadata": {},
     "output_type": "execute_result"
    }
   ],
   "source": [
    "pd.DataFrame(quiz_data)"
   ]
  },
  {
   "cell_type": "code",
   "execution_count": 140,
   "metadata": {},
   "outputs": [],
   "source": [
    "df = pd.DataFrame(quiz_data)"
   ]
  },
  {
   "cell_type": "code",
   "execution_count": 141,
   "metadata": {},
   "outputs": [],
   "source": [
    "class MCQPDF(FPDF):\n",
    "    def __init__(self, include_answers=True):\n",
    "        super().__init__()\n",
    "        self.include_answers = include_answers\n",
    "        self.title_added = False\n",
    "        self.add_page()\n",
    "        self.set_auto_page_break(auto=True, margin=30)\n",
    "\n",
    "    def header(self):\n",
    "        title = 'MCQ Assessment - Answers Included' if self.include_answers else 'MCQ Assessment - For Students'\n",
    "        if not self.title_added:\n",
    "            self.set_font('Arial', 'I', 16)\n",
    "            self.cell(0, 10, title, 0, 1, 'C')\n",
    "            self.cell(0, 10, '', 0, 1, 'C')\n",
    "            self.title_added = True\n",
    "\n",
    "    def footer(self):\n",
    "\n",
    "        self.set_y(-15)\n",
    "        self.set_font('Arial', 'I', 8)\n",
    "        self.cell(0, 10, 'Generated by Hana-AI', 0, 0, 'L')\n",
    "        self.cell(0, 10, 'Page %s' % self.page_no(), 0, 0, 'C')\n",
    "\n",
    "    def create_document(self):\n",
    "        self.set_font(\"Arial\", size=12)\n",
    "        for key, value in data.items():\n",
    "            self.set_font(\"Arial\", 'B', 12)\n",
    "            self.multi_cell(0, 10, f\"Question {key}: {value['mcq']}\")\n",
    "            self.set_font(\"Arial\", size=12)\n",
    "            for opt_key, opt_value in value['options'].items():\n",
    "                self.multi_cell(0, 10, f\"{opt_key}: {opt_value}\")\n",
    "            if self.include_answers:\n",
    "                self.multi_cell(0, 10, f\"Correct Answer: {value['correct']}\")\n",
    "            self.ln(10)\n"
   ]
  },
  {
   "cell_type": "code",
   "execution_count": 142,
   "metadata": {},
   "outputs": [
    {
     "data": {
      "text/plain": [
       "''"
      ]
     },
     "execution_count": 142,
     "metadata": {},
     "output_type": "execute_result"
    }
   ],
   "source": [
    "pdf_with_answers = MCQPDF(include_answers=True)\n",
    "pdf_with_answers.set_author(\"Hana-AI\")\n",
    "pdf_with_answers.create_document()\n",
    "pdf_with_answers.output(\"MCQs_by_HanaAi_with_Answers.pdf\")\n",
    "\n",
    "pdf_without_answers = MCQPDF(include_answers=False)\n",
    "pdf_without_answers.set_author(\"Hana-AI\")\n",
    "pdf_without_answers.create_document()\n",
    "pdf_without_answers.output(\"MCQs_by_HanaAi_.pdf\")"
   ]
  },
  {
   "cell_type": "code",
   "execution_count": 143,
   "metadata": {},
   "outputs": [
    {
     "name": "stdout",
     "output_type": "stream",
     "text": [
      "fucked successfully....\n"
     ]
    }
   ],
   "source": [
    "print(\"fucked successfully....\")"
   ]
  },
  {
   "cell_type": "code",
   "execution_count": null,
   "metadata": {},
   "outputs": [],
   "source": []
  }
 ],
 "metadata": {
  "kernelspec": {
   "display_name": "quiz_generator",
   "language": "python",
   "name": "python3"
  },
  "language_info": {
   "codemirror_mode": {
    "name": "ipython",
    "version": 3
   },
   "file_extension": ".py",
   "mimetype": "text/x-python",
   "name": "python",
   "nbconvert_exporter": "python",
   "pygments_lexer": "ipython3",
   "version": "3.12.3"
  }
 },
 "nbformat": 4,
 "nbformat_minor": 2
}
